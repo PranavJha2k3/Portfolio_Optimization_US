{
 "cells": [
  {
   "cell_type": "code",
   "execution_count": 114,
   "id": "135d96de-ab92-4a2e-8bad-29fe034c2bcf",
   "metadata": {},
   "outputs": [],
   "source": [
    "import yfinance as yf\n",
    "import pandas as pd\n",
    "import numpy as np\n",
    "from datetime import datetime,timedelta\n",
    "from scipy.optimize import minimize"
   ]
  },
  {
   "cell_type": "code",
   "execution_count": 131,
   "id": "7bda9acc-27a0-4d93-9cb2-9be3b560e3a2",
   "metadata": {},
   "outputs": [],
   "source": [
    "tickers = ['XOM' ,'GE' ,'MSFT', 'BP', 'C', 'PG', 'WMT', 'PFE', 'HBC', 'TM', 'JNJ', 'BAC', 'AIG', 'NVS', 'MO', 'GSK',  'JPM',  'GOOG', 'HD', 'WB',  'NOK', 'UNH', 'TWX', 'QCOM', 'ING']"
   ]
  },
  {
   "cell_type": "code",
   "execution_count": 132,
   "id": "00b9a895-1c72-4ee8-bc9f-54e4c4a4b3f7",
   "metadata": {},
   "outputs": [
    {
     "name": "stdout",
     "output_type": "stream",
     "text": [
      "2024-05-19 16:49:28.161104\n"
     ]
    }
   ],
   "source": [
    "end_date = datetime.today()\n",
    "print(end_date)"
   ]
  },
  {
   "cell_type": "code",
   "execution_count": 133,
   "id": "99ae61d4-9a38-4d09-a64f-9ff8d0a97a1f",
   "metadata": {},
   "outputs": [
    {
     "name": "stdout",
     "output_type": "stream",
     "text": [
      "2017-05-21 16:49:28.161104\n"
     ]
    }
   ],
   "source": [
    "start_date = end_date - timedelta(days = 7* 365)\n",
    "print(start_date)"
   ]
  },
  {
   "cell_type": "code",
   "execution_count": 134,
   "id": "699b3e18-07bb-430e-bab7-186e5c0c9c06",
   "metadata": {},
   "outputs": [],
   "source": [
    "adjusted_close_df = pd.DataFrame()\n"
   ]
  },
  {
   "cell_type": "code",
   "execution_count": 135,
   "id": "24624eb6-118c-43a5-ad48-6288a68e121c",
   "metadata": {},
   "outputs": [
    {
     "name": "stderr",
     "output_type": "stream",
     "text": [
      "[*********************100%%**********************]  1 of 1 completed\n",
      "[*********************100%%**********************]  1 of 1 completed\n",
      "[*********************100%%**********************]  1 of 1 completed\n",
      "[*********************100%%**********************]  1 of 1 completed\n",
      "[*********************100%%**********************]  1 of 1 completed\n",
      "[*********************100%%**********************]  1 of 1 completed\n",
      "[*********************100%%**********************]  1 of 1 completed\n",
      "[*********************100%%**********************]  1 of 1 completed\n",
      "[*********************100%%**********************]  1 of 1 completed\n",
      "[*********************100%%**********************]  1 of 1 completed\n",
      "[*********************100%%**********************]  1 of 1 completed\n",
      "[*********************100%%**********************]  1 of 1 completed\n",
      "[*********************100%%**********************]  1 of 1 completed\n",
      "[*********************100%%**********************]  1 of 1 completed\n",
      "[*********************100%%**********************]  1 of 1 completed\n",
      "[*********************100%%**********************]  1 of 1 completed\n",
      "[*********************100%%**********************]  1 of 1 completed\n",
      "[*********************100%%**********************]  1 of 1 completed\n",
      "[*********************100%%**********************]  1 of 1 completed\n",
      "[*********************100%%**********************]  1 of 1 completed\n",
      "[*********************100%%**********************]  1 of 1 completed\n",
      "[*********************100%%**********************]  1 of 1 completed\n",
      "[*********************100%%**********************]  1 of 1 completed\n",
      "[*********************100%%**********************]  1 of 1 completed\n",
      "[*********************100%%**********************]  1 of 1 completed\n"
     ]
    }
   ],
   "source": [
    "for ticker in tickers :\n",
    "    data  =  yf.download(ticker , start = start_date , end = end_date)\n",
    "    adjusted_close_df[ticker] = data['Adj Close']"
   ]
  },
  {
   "cell_type": "code",
   "execution_count": 136,
   "id": "f267dfe3-8a87-4d32-b799-cdf584439e3b",
   "metadata": {},
   "outputs": [
    {
     "name": "stdout",
     "output_type": "stream",
     "text": [
      "                   XOM          GE        MSFT         BP          C  \\\n",
      "Date                                                                   \n",
      "2017-05-22   59.008221  123.065392   63.007275  25.096340  48.455482   \n",
      "2017-05-23   59.216175  123.502121   63.218979  25.075972  48.971310   \n",
      "2017-05-24   59.008221  121.536903   63.301804  25.055605  49.415703   \n",
      "2017-05-25   58.621002  120.052078   64.084244  24.716097  49.161755   \n",
      "2017-05-26   58.477592  119.877335   64.397186  24.722887  49.256985   \n",
      "...                ...         ...         ...        ...        ...   \n",
      "2024-05-13  116.960007  159.500000  412.975098  37.660072  63.400002   \n",
      "2024-05-14  117.669998  160.000000  415.809998  37.521690  63.590000   \n",
      "2024-05-15  118.580002  163.470001  423.079987  37.323997  64.239998   \n",
      "2024-05-16  117.870003  161.119995  420.989990  37.110001  64.139999   \n",
      "2024-05-17  119.639999  159.889999  420.209991  37.490002  64.070000   \n",
      "\n",
      "                    PG        WMT        PFE           HBC          TM  ...  \\\n",
      "Date                                                                    ...   \n",
      "2017-05-22   71.348022  23.107685  23.146769  28218.699219  107.500000  ...   \n",
      "2017-05-23   71.240440  23.090031  23.161182  28924.199219  108.080002  ...   \n",
      "2017-05-24   71.588043  22.990015  23.096327  29441.500000  107.320000  ...   \n",
      "2017-05-25   71.885979  23.037081  23.175596  29582.599609  107.300003  ...   \n",
      "2017-05-26   72.208740  22.984129  23.161182  29253.400391  107.099998  ...   \n",
      "...                ...        ...        ...           ...         ...  ...   \n",
      "2024-05-13  165.869995  60.410000  28.440001           NaN  215.639999  ...   \n",
      "2024-05-14  165.759995  59.860001  28.379999           NaN  217.119995  ...   \n",
      "2024-05-15  166.509995  59.830002  28.820000           NaN  219.550003  ...   \n",
      "2024-05-16  167.860001  64.010002  28.920000           NaN  215.630005  ...   \n",
      "2024-05-17  167.639999  64.650002  28.639999           NaN  219.759995  ...   \n",
      "\n",
      "                  GSK         JPM        GOOG          HD         WB  \\\n",
      "Date                                                                   \n",
      "2017-05-22  30.898375   69.513466   47.092999  131.817368  68.950027   \n",
      "2017-05-23  30.655746   70.383408   47.441002  130.862335  65.730942   \n",
      "2017-05-24  30.648596   70.342377   47.748001  131.005997  64.339134   \n",
      "2017-05-25  30.377443   70.046928   48.477001  132.239975  66.234726   \n",
      "2017-05-26  30.448809   70.055138   48.573502  130.921478  66.234726   \n",
      "...               ...         ...         ...         ...        ...   \n",
      "2024-05-13  44.798359  198.729996  170.899994  340.959991   9.780000   \n",
      "2024-05-14  45.284328  201.509995  171.929993  340.500000   9.720000   \n",
      "2024-05-15  45.324001  202.110001  173.880005  348.670013   9.620000   \n",
      "2024-05-16  44.880001  202.470001  175.429993  342.730011  10.040000   \n",
      "2024-05-17  44.980000  204.789993  177.289993  344.209991   9.660000   \n",
      "\n",
      "                 NOK         UNH        TWX        QCOM        ING  \n",
      "Date                                                                \n",
      "2017-05-22  5.257641  157.549026  95.915619   48.500740  11.508067  \n",
      "2017-05-23  5.537034  158.017960  96.238930   48.451656  11.555425  \n",
      "2017-05-24  5.564901  158.351608  96.405479   47.977119  11.514833  \n",
      "2017-05-25  5.573611  160.570145  97.355827   47.821667  11.589251  \n",
      "2017-05-26  5.556193  160.074142  97.456642   47.524231  11.501301  \n",
      "...              ...         ...        ...         ...        ...  \n",
      "2024-05-13  3.790000  511.739990        NaN  184.210007  17.440001  \n",
      "2024-05-14  3.930000  513.880005        NaN  188.970001  17.799999  \n",
      "2024-05-15  3.870000  517.549988        NaN  194.610001  17.639999  \n",
      "2024-05-16  3.880000  521.270020        NaN  193.270004  17.600000  \n",
      "2024-05-17  3.910000  524.630005        NaN  193.860001  17.980000  \n",
      "\n",
      "[1760 rows x 25 columns]\n"
     ]
    }
   ],
   "source": [
    "print(adjusted_close_df)"
   ]
  },
  {
   "cell_type": "code",
   "execution_count": 137,
   "id": "66b01b26-4362-43be-815d-f48bcafd936b",
   "metadata": {},
   "outputs": [],
   "source": [
    "#Calculation of log-normal returns"
   ]
  },
  {
   "cell_type": "code",
   "execution_count": 138,
   "id": "e12c9fee-82ec-47e8-8a53-4929130c8659",
   "metadata": {},
   "outputs": [
    {
     "name": "stdout",
     "output_type": "stream",
     "text": [
      "                 XOM        GE      MSFT        BP         C        PG  \\\n",
      "Date                                                                     \n",
      "2017-05-22       NaN       NaN       NaN       NaN       NaN       NaN   \n",
      "2017-05-23  0.003518  0.003542  0.003354 -0.000812  0.010589 -0.001509   \n",
      "2017-05-24 -0.003518 -0.016040  0.001309 -0.000813  0.009034  0.004867   \n",
      "2017-05-25 -0.006584 -0.012292  0.012285 -0.013643 -0.005152  0.004153   \n",
      "2017-05-26 -0.002449 -0.001457  0.004871  0.000275  0.001935  0.004480   \n",
      "...              ...       ...       ...       ...       ...       ...   \n",
      "2024-05-13 -0.000424 -0.024035 -0.002462  0.006847 -0.002048 -0.005891   \n",
      "2024-05-14  0.006052  0.003130  0.006841 -0.003681  0.002992 -0.000663   \n",
      "2024-05-15  0.007704  0.021456  0.017333 -0.005283  0.010170  0.004514   \n",
      "2024-05-16 -0.006006 -0.014480 -0.004952 -0.005750 -0.001558  0.008075   \n",
      "2024-05-17  0.014905 -0.007663 -0.001854  0.010188 -0.001092 -0.001311   \n",
      "\n",
      "                 WMT       PFE       HBC        TM  ...       GSK       JPM  \\\n",
      "Date                                                ...                       \n",
      "2017-05-22       NaN       NaN       NaN       NaN  ...       NaN       NaN   \n",
      "2017-05-23 -0.000764  0.000623  0.024694  0.005381  ... -0.007883  0.012437   \n",
      "2017-05-24 -0.004341 -0.002804  0.017727 -0.007057  ... -0.000233 -0.000583   \n",
      "2017-05-25  0.002045  0.003426  0.004781 -0.000186  ... -0.008887 -0.004209   \n",
      "2017-05-26 -0.002301 -0.000622 -0.011191 -0.001866  ...  0.002347  0.000117   \n",
      "...              ...       ...       ...       ...  ...       ...       ...   \n",
      "2024-05-13 -0.001158  0.015235       NaN -0.014456  ...  0.002216 -0.000201   \n",
      "2024-05-14 -0.009146 -0.002112       NaN  0.006840  ...  0.010790  0.013892   \n",
      "2024-05-15 -0.000501  0.015385       NaN  0.011130  ...  0.000876  0.002973   \n",
      "2024-05-16  0.067532  0.003464       NaN -0.018016  ... -0.009844  0.001780   \n",
      "2024-05-17  0.009949 -0.009729       NaN  0.018972  ...  0.002226  0.011393   \n",
      "\n",
      "                GOOG        HD        WB       NOK       UNH       TWX  \\\n",
      "Date                                                                     \n",
      "2017-05-22       NaN       NaN       NaN       NaN       NaN       NaN   \n",
      "2017-05-23  0.007363 -0.007271 -0.047812  0.051776  0.002972  0.003365   \n",
      "2017-05-24  0.006450  0.001097 -0.021402  0.005020  0.002109  0.001729   \n",
      "2017-05-25  0.015152  0.009375  0.029037  0.001564  0.013913  0.009810   \n",
      "2017-05-26  0.001989 -0.010021  0.000000 -0.003130 -0.003094  0.001035   \n",
      "...              ...       ...       ...       ...       ...       ...   \n",
      "2024-05-13  0.003576 -0.015916  0.013382  0.018642 -0.002089       NaN   \n",
      "2024-05-14  0.006009 -0.001350 -0.006154  0.036273  0.004173       NaN   \n",
      "2024-05-15  0.011278  0.023711 -0.010341 -0.015385  0.007116       NaN   \n",
      "2024-05-16  0.008875 -0.017183  0.042733  0.002581  0.007162       NaN   \n",
      "2024-05-17  0.010547  0.004309 -0.038583  0.007702  0.006425       NaN   \n",
      "\n",
      "                QCOM       ING  \n",
      "Date                            \n",
      "2017-05-22       NaN       NaN  \n",
      "2017-05-23 -0.001013  0.004107  \n",
      "2017-05-24 -0.009842 -0.003519  \n",
      "2017-05-25 -0.003245  0.006442  \n",
      "2017-05-26 -0.006239 -0.007618  \n",
      "...              ...       ...  \n",
      "2024-05-13  0.011630  0.008638  \n",
      "2024-05-14  0.025512  0.020432  \n",
      "2024-05-15  0.029409 -0.009029  \n",
      "2024-05-16 -0.006909 -0.002270  \n",
      "2024-05-17  0.003048  0.021361  \n",
      "\n",
      "[1760 rows x 25 columns]\n",
      "                 XOM        GE      MSFT        BP         C        PG  \\\n",
      "Date                                                                     \n",
      "2017-05-23  0.003518  0.003542  0.003354 -0.000812  0.010589 -0.001509   \n",
      "2017-05-24 -0.003518 -0.016040  0.001309 -0.000813  0.009034  0.004867   \n",
      "2017-05-25 -0.006584 -0.012292  0.012285 -0.013643 -0.005152  0.004153   \n",
      "2017-05-26 -0.002449 -0.001457  0.004871  0.000275  0.001935  0.004480   \n",
      "2017-05-30 -0.005533 -0.003284  0.006412 -0.003852 -0.006952  0.001718   \n",
      "...              ...       ...       ...       ...       ...       ...   \n",
      "2018-06-11 -0.005999  0.003583 -0.005723  0.001699 -0.005271  0.004525   \n",
      "2018-06-12 -0.008217  0.000000  0.002570 -0.021451 -0.007368 -0.003748   \n",
      "2018-06-13 -0.011103 -0.006459 -0.004551 -0.002388 -0.004744 -0.010019   \n",
      "2018-06-14  0.004651 -0.018163  0.005636  0.009302 -0.016936 -0.006297   \n",
      "2018-06-15 -0.015134 -0.014158 -0.012801 -0.028614  0.002717  0.018127   \n",
      "\n",
      "                 WMT       PFE       HBC        TM  ...       GSK       JPM  \\\n",
      "Date                                                ...                       \n",
      "2017-05-23 -0.000764  0.000623  0.024694  0.005381  ... -0.007883  0.012437   \n",
      "2017-05-24 -0.004341 -0.002804  0.017727 -0.007057  ... -0.000233 -0.000583   \n",
      "2017-05-25  0.002045  0.003426  0.004781 -0.000186  ... -0.008887 -0.004209   \n",
      "2017-05-26 -0.002301 -0.000622 -0.011191 -0.001866  ...  0.002347  0.000117   \n",
      "2017-05-30  0.000256 -0.000311 -0.059619  0.007257  ...  0.017194 -0.017252   \n",
      "...              ...       ...       ...       ...  ...       ...       ...   \n",
      "2018-06-11 -0.000712 -0.010142 -0.014817  0.006877  ...  0.004136 -0.002523   \n",
      "2018-06-12 -0.002375  0.000000 -0.007492 -0.019139  ...  0.000242 -0.005792   \n",
      "2018-06-13 -0.000119 -0.002206  0.014928  0.006371  ... -0.001457 -0.001999   \n",
      "2018-06-14 -0.003574 -0.001658  0.064539  0.000222  ...  0.019259 -0.017799   \n",
      "2018-06-15 -0.001075  0.005516  0.003465  0.002728  ... -0.011993 -0.001204   \n",
      "\n",
      "                GOOG        HD        WB       NOK       UNH       TWX  \\\n",
      "Date                                                                     \n",
      "2017-05-23  0.007363 -0.007271 -0.047812  0.051776  0.002972  0.003365   \n",
      "2017-05-24  0.006450  0.001097 -0.021402  0.005020  0.002109  0.001729   \n",
      "2017-05-25  0.015152  0.009375  0.029037  0.001564  0.013913  0.009810   \n",
      "2017-05-26  0.001989 -0.010021  0.000000 -0.003130 -0.003094  0.001035   \n",
      "2017-05-30  0.004529 -0.000845 -0.040247 -0.006289 -0.005140 -0.001313   \n",
      "...              ...       ...       ...       ...       ...       ...   \n",
      "2018-06-11  0.008104  0.006583 -0.025669  0.010222  0.012291  0.008668   \n",
      "2018-06-12  0.008223  0.008330  0.019550  0.005072 -0.000788  0.000520   \n",
      "2018-06-13 -0.003984 -0.004980  0.013880  0.024981 -0.002804  0.017820   \n",
      "2018-06-14  0.015156 -0.003200  0.036038  0.004922  0.009681  0.008337   \n",
      "2018-06-15  0.000122  0.004348 -0.014752  0.001635  0.006073  0.000000   \n",
      "\n",
      "                QCOM       ING  \n",
      "Date                            \n",
      "2017-05-23 -0.001013  0.004107  \n",
      "2017-05-24 -0.009842 -0.003519  \n",
      "2017-05-25 -0.003245  0.006442  \n",
      "2017-05-26 -0.006239 -0.007618  \n",
      "2017-05-30 -0.003135 -0.018404  \n",
      "...              ...       ...  \n",
      "2018-06-11 -0.005491  0.021249  \n",
      "2018-06-12 -0.002339 -0.006592  \n",
      "2018-06-13 -0.009579 -0.003976  \n",
      "2018-06-14  0.004045 -0.021477  \n",
      "2018-06-15  0.006705 -0.008175  \n",
      "\n",
      "[267 rows x 25 columns]\n"
     ]
    }
   ],
   "source": [
    "log_returns = np.log(adjusted_close_df / adjusted_close_df.shift(1))\n",
    "print(log_returns)\n",
    "#drop missing values         -> check later why not fill\n",
    "log_returns = log_returns.dropna()\n",
    "print(log_returns)"
   ]
  },
  {
   "cell_type": "code",
   "execution_count": 139,
   "id": "a40a1ab1-ac5d-4381-adce-6e06f44709b8",
   "metadata": {},
   "outputs": [],
   "source": [
    "# covariance matrix using annualized  log returns"
   ]
  },
  {
   "cell_type": "code",
   "execution_count": 140,
   "id": "760ad60e-a9b6-442c-ba1f-ef7cb3fcfb9f",
   "metadata": {},
   "outputs": [
    {
     "name": "stdout",
     "output_type": "stream",
     "text": [
      "           XOM        GE      MSFT        BP         C        PG       WMT  \\\n",
      "XOM   0.028897  0.011775  0.012752  0.021227  0.013688  0.008021  0.009072   \n",
      "GE    0.011775  0.080547  0.009405  0.012452  0.017064  0.004630  0.005539   \n",
      "MSFT  0.012752  0.009405  0.046698  0.014148  0.017344  0.007541  0.011561   \n",
      "BP    0.021227  0.012452  0.014148  0.034001  0.012053  0.005037  0.006741   \n",
      "C     0.013688  0.017064  0.017344  0.012053  0.038688  0.004113  0.009061   \n",
      "PG    0.008021  0.004630  0.007541  0.005037  0.004113  0.019620  0.010822   \n",
      "WMT   0.009072  0.005539  0.011561  0.006741  0.009061  0.010822  0.052539   \n",
      "PFE   0.011025  0.012331  0.014418  0.007370  0.014144  0.007619  0.012450   \n",
      "HBC  -0.001392  0.004544  0.000334 -0.001800  0.003540  0.002038  0.005405   \n",
      "TM    0.011149  0.010318  0.015260  0.011820  0.013928  0.008348  0.010211   \n",
      "JNJ   0.011595  0.007607  0.016891  0.007225  0.012861  0.011671  0.013015   \n",
      "BAC   0.014956  0.021257  0.021410  0.014344  0.036713  0.004106  0.010978   \n",
      "AIG   0.009093  0.013799  0.012509  0.008448  0.014601  0.003227  0.005089   \n",
      "NVS   0.008721  0.007997  0.014568  0.009984  0.010317  0.008665  0.009963   \n",
      "MO    0.009784  0.007915  0.009067  0.005346  0.006134  0.015044  0.013291   \n",
      "GSK   0.006526  0.012466  0.008197  0.008954  0.003824  0.005170  0.005341   \n",
      "JPM   0.015860  0.018786  0.019627  0.014516  0.032918  0.005592  0.011157   \n",
      "GOOG  0.014156  0.011806  0.037753  0.012475  0.017003  0.006663  0.011012   \n",
      "HD    0.014121  0.012397  0.018598  0.013218  0.015586  0.010989  0.015981   \n",
      "WB    0.011317 -0.003982  0.037459  0.012439  0.019439  0.003036  0.025700   \n",
      "NOK   0.007009  0.013530  0.018622  0.011664  0.012851  0.001381  0.009350   \n",
      "UNH   0.010370  0.009487  0.020011  0.005890  0.016236  0.007399  0.013710   \n",
      "TWX   0.005525  0.009229  0.004155  0.004948  0.007607  0.003550  0.003277   \n",
      "QCOM  0.013096  0.011920  0.029272  0.009277  0.016437  0.011643  0.016542   \n",
      "ING   0.008646  0.011094  0.010867  0.010684  0.018021  0.003942  0.010084   \n",
      "\n",
      "           PFE       HBC        TM  ...       GSK       JPM      GOOG  \\\n",
      "XOM   0.011025 -0.001392  0.011149  ...  0.006526  0.015860  0.014156   \n",
      "GE    0.012331  0.004544  0.010318  ...  0.012466  0.018786  0.011806   \n",
      "MSFT  0.014418  0.000334  0.015260  ...  0.008197  0.019627  0.037753   \n",
      "BP    0.007370 -0.001800  0.011820  ...  0.008954  0.014516  0.012475   \n",
      "C     0.014144  0.003540  0.013928  ...  0.003824  0.032918  0.017003   \n",
      "PG    0.007619  0.002038  0.008348  ...  0.005170  0.005592  0.006663   \n",
      "WMT   0.012450  0.005405  0.010211  ...  0.005341  0.011157  0.011012   \n",
      "PFE   0.025037  0.003175  0.009585  ...  0.009235  0.014275  0.012677   \n",
      "HBC   0.003175  0.158227  0.002033  ...  0.001757  0.003796  0.010418   \n",
      "TM    0.009585  0.002033  0.026571  ...  0.006873  0.015235  0.017559   \n",
      "JNJ   0.016271  0.005912  0.011368  ...  0.008473  0.013319  0.015694   \n",
      "BAC   0.015141  0.004772  0.016263  ...  0.004003  0.038520  0.020684   \n",
      "AIG   0.009010  0.003591  0.007874  ...  0.003457  0.015610  0.010776   \n",
      "NVS   0.012470  0.003075  0.010286  ...  0.012007  0.010148  0.014270   \n",
      "MO    0.009175  0.012858  0.009587  ...  0.004880  0.008857  0.007153   \n",
      "GSK   0.009235  0.001757  0.006873  ...  0.027716  0.004137  0.008844   \n",
      "JPM   0.014275  0.003796  0.015235  ...  0.004137  0.036508  0.018859   \n",
      "GOOG  0.012677  0.010418  0.017559  ...  0.008844  0.018859  0.049343   \n",
      "HD    0.013419  0.003514  0.013458  ...  0.006467  0.017382  0.017732   \n",
      "WB    0.013909  0.018451  0.009933  ...  0.016607  0.019784  0.041082   \n",
      "NOK   0.011601  0.011749  0.012492  ...  0.015660  0.013093  0.020396   \n",
      "UNH   0.015447  0.004504  0.011143  ...  0.007210  0.015885  0.017882   \n",
      "TWX   0.004688  0.008115  0.003844  ...  0.000481  0.007959  0.003793   \n",
      "QCOM  0.015635  0.011614  0.017956  ...  0.010018  0.017618  0.028174   \n",
      "ING   0.008902  0.007495  0.011289  ...  0.005592  0.018653  0.011747   \n",
      "\n",
      "            HD        WB       NOK       UNH       TWX      QCOM       ING  \n",
      "XOM   0.014121  0.011317  0.007009  0.010370  0.005525  0.013096  0.008646  \n",
      "GE    0.012397 -0.003982  0.013530  0.009487  0.009229  0.011920  0.011094  \n",
      "MSFT  0.018598  0.037459  0.018622  0.020011  0.004155  0.029272  0.010867  \n",
      "BP    0.013218  0.012439  0.011664  0.005890  0.004948  0.009277  0.010684  \n",
      "C     0.015586  0.019439  0.012851  0.016236  0.007607  0.016437  0.018021  \n",
      "PG    0.010989  0.003036  0.001381  0.007399  0.003550  0.011643  0.003942  \n",
      "WMT   0.015981  0.025700  0.009350  0.013710  0.003277  0.016542  0.010084  \n",
      "PFE   0.013419  0.013909  0.011601  0.015447  0.004688  0.015635  0.008902  \n",
      "HBC   0.003514  0.018451  0.011749  0.004504  0.008115  0.011614  0.007495  \n",
      "TM    0.013458  0.009933  0.012492  0.011143  0.003844  0.017956  0.011289  \n",
      "JNJ   0.012928  0.014163  0.011728  0.017166  0.003871  0.016137  0.008995  \n",
      "BAC   0.017712  0.019643  0.016191  0.016761  0.009575  0.019775  0.021304  \n",
      "AIG   0.010947  0.007094  0.007335  0.010071  0.005472  0.002726  0.010144  \n",
      "NVS   0.011692  0.016473  0.011218  0.012453  0.004750  0.014423  0.009659  \n",
      "MO    0.012493  0.000757 -0.002565  0.009585  0.007157  0.014576  0.004314  \n",
      "GSK   0.006467  0.016607  0.015660  0.007210  0.000481  0.010018  0.005592  \n",
      "JPM   0.017382  0.019784  0.013093  0.015885  0.007959  0.017618  0.018653  \n",
      "GOOG  0.017732  0.041082  0.020396  0.017882  0.003793  0.028174  0.011747  \n",
      "HD    0.036071  0.018911  0.005751  0.015749  0.005483  0.020012  0.010528  \n",
      "WB    0.018911  0.213211  0.025345  0.023872 -0.002227  0.034232  0.021135  \n",
      "NOK   0.005751  0.025345  0.114062  0.012289  0.006689  0.013822  0.011629  \n",
      "UNH   0.015749  0.023872  0.012289  0.037974  0.006888  0.018801  0.010133  \n",
      "TWX   0.005483 -0.002227  0.006689  0.006888  0.020759  0.002217  0.005294  \n",
      "QCOM  0.020012  0.034232  0.013822  0.018801  0.002217  0.078892  0.008452  \n",
      "ING   0.010528  0.021135  0.011629  0.010133  0.005294  0.008452  0.029322  \n",
      "\n",
      "[25 rows x 25 columns]\n"
     ]
    }
   ],
   "source": [
    "cov_matrix = log_returns.cov()*252\n",
    "print(cov_matrix)"
   ]
  },
  {
   "cell_type": "code",
   "execution_count": 141,
   "id": "8094f1ec-0648-4a2e-91aa-9ee6b536838e",
   "metadata": {},
   "outputs": [],
   "source": [
    "#Calculate Portfolio's risk by portfolio standard deviation  "
   ]
  },
  {
   "cell_type": "code",
   "execution_count": 142,
   "id": "bf207c4c-8858-4314-92ae-2a3d33ed3f8c",
   "metadata": {},
   "outputs": [],
   "source": [
    "def standard_deviation (weights , cov_matrix) :\n",
    "    variance = weights.T @ cov_matrix @ weights\n",
    "    return np.sqrt(variance)"
   ]
  },
  {
   "cell_type": "code",
   "execution_count": 143,
   "id": "13f8b24e-6a55-48d7-bd99-c02a771b63b9",
   "metadata": {},
   "outputs": [],
   "source": [
    "#calculate the expected return"
   ]
  },
  {
   "cell_type": "code",
   "execution_count": 144,
   "id": "71d1d5f9-4c06-45c1-b58f-355baa9d2081",
   "metadata": {},
   "outputs": [],
   "source": [
    "def expected_return (weights , log_returns) :\n",
    "    return np.sum(log_returns.mean() * weights ) * 252"
   ]
  },
  {
   "cell_type": "code",
   "execution_count": 145,
   "id": "54e97fa4-62bd-41fd-8746-060821c866be",
   "metadata": {},
   "outputs": [],
   "source": [
    "#calculation of sharpe ratio = (portfolio_return - risk free rate)/ standard_deviation"
   ]
  },
  {
   "cell_type": "code",
   "execution_count": 146,
   "id": "6f1ce4e3-f193-4c4c-b103-e2fedda8f13d",
   "metadata": {},
   "outputs": [],
   "source": [
    "def sharpe_ratio (weights , log_returns , cov_matrix , risk_free_rate) :\n",
    "    return (expected_return (weights , log_returns )  - risk_free_rate ) / standard_deviation(weights , cov_matrix)"
   ]
  },
  {
   "cell_type": "code",
   "execution_count": 147,
   "id": "d33eefee-1648-4311-bdf6-dd0cf9ce2175",
   "metadata": {},
   "outputs": [],
   "source": [
    "#risk_free_rate : either assume any value(ex : 0.02 ) or feed api for the fred api (6c9643158baa1fc7628cdd687a7ca284 )"
   ]
  },
  {
   "cell_type": "code",
   "execution_count": 148,
   "id": "b5b62e83-3a7d-4175-93ee-6f8091dbfcd2",
   "metadata": {},
   "outputs": [
    {
     "name": "stdout",
     "output_type": "stream",
     "text": [
      "Requirement already satisfied: fredapi in c:\\users\\pranav jha\\anaconda3\\lib\\site-packages (0.5.2)\n",
      "Requirement already satisfied: pandas in c:\\users\\pranav jha\\anaconda3\\lib\\site-packages (from fredapi) (2.1.4)\n",
      "Requirement already satisfied: numpy<2,>=1.23.2 in c:\\users\\pranav jha\\anaconda3\\lib\\site-packages (from pandas->fredapi) (1.26.4)\n",
      "Requirement already satisfied: python-dateutil>=2.8.2 in c:\\users\\pranav jha\\anaconda3\\lib\\site-packages (from pandas->fredapi) (2.8.2)\n",
      "Requirement already satisfied: pytz>=2020.1 in c:\\users\\pranav jha\\anaconda3\\lib\\site-packages (from pandas->fredapi) (2023.3.post1)\n",
      "Requirement already satisfied: tzdata>=2022.1 in c:\\users\\pranav jha\\anaconda3\\lib\\site-packages (from pandas->fredapi) (2023.3)\n",
      "Requirement already satisfied: six>=1.5 in c:\\users\\pranav jha\\anaconda3\\lib\\site-packages (from python-dateutil>=2.8.2->pandas->fredapi) (1.16.0)\n",
      "Note: you may need to restart the kernel to use updated packages.\n"
     ]
    }
   ],
   "source": [
    "pip install fredapi"
   ]
  },
  {
   "cell_type": "code",
   "execution_count": 149,
   "id": "69b0875d-8e6f-4aed-89f9-7828f13bf22f",
   "metadata": {
    "scrolled": true
   },
   "outputs": [
    {
     "name": "stdout",
     "output_type": "stream",
     "text": [
      "0.0454\n"
     ]
    }
   ],
   "source": [
    "\n",
    "from fredapi import Fred\n",
    "\n",
    "fred = Fred(api_key = '6c9643158baa1fc7628cdd687a7ca284')\n",
    "ten_year_treasury_rate = fred.get_series_latest_release('GS10') / 100\n",
    "\n",
    "#risk_free_rate\n",
    "risk_free_rate = ten_year_treasury_rate.iloc[-1]\n",
    "print(risk_free_rate)"
   ]
  },
  {
   "cell_type": "code",
   "execution_count": 150,
   "id": "0cfe79ee-74c1-4102-a15c-9fa8187be84f",
   "metadata": {},
   "outputs": [],
   "source": [
    "#define the function to minimize (negative sharoe ratio)"
   ]
  },
  {
   "cell_type": "code",
   "execution_count": 151,
   "id": "3cb4c626-93c9-48ff-a4ac-be8655a27503",
   "metadata": {},
   "outputs": [],
   "source": [
    "def neg_sharpe_ratio(weights , log_returns , cov_matrix , risk_free_rate):\n",
    "    return -sharpe_ratio(weights , log_returns , cov_matrix , risk_free_rate)\n",
    "    "
   ]
  },
  {
   "cell_type": "code",
   "execution_count": 152,
   "id": "8d8d59e9-beb4-4166-a3bd-1dbe1a1f2734",
   "metadata": {},
   "outputs": [],
   "source": [
    "## One important thing is to make sure to follow all the constraints\n",
    "# 1. sum of all weights is equal to 1\n",
    "# 2. Each weight should be between 0 and 1"
   ]
  },
  {
   "cell_type": "code",
   "execution_count": 153,
   "id": "039c7ca4-7dd9-48d3-a73a-9050473607fc",
   "metadata": {},
   "outputs": [],
   "source": [
    "constraints = { 'type' : 'eq' , 'fun' : lambda weights : np.sum(weights)-1}\n",
    "bounds = [(0,0.30) for _ in range(len(tickers))] #we cant sell any asset i.e only long position \n",
    "                                                #and 0.5 means cant allocate any particular asset more than 50%"
   ]
  },
  {
   "cell_type": "code",
   "execution_count": 154,
   "id": "f5e10252-0569-4a49-ab74-d1a0aceff32d",
   "metadata": {},
   "outputs": [],
   "source": [
    "#set the initial weights"
   ]
  },
  {
   "cell_type": "code",
   "execution_count": 155,
   "id": "7e03908a-1bfb-4023-a1f7-833dbc2dcedd",
   "metadata": {},
   "outputs": [
    {
     "name": "stdout",
     "output_type": "stream",
     "text": [
      "[0.04 0.04 0.04 0.04 0.04 0.04 0.04 0.04 0.04 0.04 0.04 0.04 0.04 0.04\n",
      " 0.04 0.04 0.04 0.04 0.04 0.04 0.04 0.04 0.04 0.04 0.04]\n"
     ]
    }
   ],
   "source": [
    "initial_weights  = np.array([1/len(tickers)]*len(tickers))\n",
    "print(initial_weights)"
   ]
  },
  {
   "cell_type": "code",
   "execution_count": 156,
   "id": "a09aa8af-56cd-4c2c-868a-b8d554bc8ac1",
   "metadata": {},
   "outputs": [],
   "source": [
    "#optimize weights to maximize sharpe ratio"
   ]
  },
  {
   "cell_type": "code",
   "execution_count": 157,
   "id": "c1e8f0d1-dccd-40af-8e08-0338e00d7c23",
   "metadata": {},
   "outputs": [],
   "source": [
    "optimized_results = minimize(neg_sharpe_ratio , initial_weights , args = (log_returns , cov_matrix, risk_free_rate), method='SLSQP', constraints=constraints, bounds=bounds)"
   ]
  },
  {
   "cell_type": "code",
   "execution_count": 158,
   "id": "8b3ecb98-a6da-4633-a35b-44fb78af45a9",
   "metadata": {},
   "outputs": [],
   "source": [
    "#optimal weights"
   ]
  },
  {
   "cell_type": "code",
   "execution_count": 159,
   "id": "e3f55744-8711-4a7d-8181-0d167bbc4e1a",
   "metadata": {},
   "outputs": [],
   "source": [
    "optimal_weights = optimized_results.x"
   ]
  },
  {
   "cell_type": "code",
   "execution_count": 161,
   "id": "0949a843-b4a1-40fd-85f3-43507d49ef9f",
   "metadata": {},
   "outputs": [
    {
     "name": "stdout",
     "output_type": "stream",
     "text": [
      "Optimal Weights:\n",
      "XOM: 0.0000\n",
      "GE: 0.0000\n",
      "MSFT: 0.3000\n",
      "BP: 0.2267\n",
      "C: 0.0000\n",
      "PG: 0.0000\n",
      "WMT: 0.0000\n",
      "PFE: 0.0000\n",
      "HBC: 0.0000\n",
      "TM: 0.0942\n",
      "JNJ: 0.0000\n",
      "BAC: 0.0000\n",
      "AIG: 0.0000\n",
      "NVS: 0.0000\n",
      "MO: 0.0000\n",
      "GSK: 0.0000\n",
      "JPM: 0.0539\n",
      "GOOG: 0.0000\n",
      "HD: 0.0252\n",
      "WB: 0.0000\n",
      "NOK: 0.0000\n",
      "UNH: 0.3000\n",
      "TWX: 0.0000\n",
      "QCOM: 0.0000\n",
      "ING: 0.0000\n",
      "Expected Annual Return: 0.3250\n",
      "Expected Volatility: 0.1432\n",
      "Sharpe Ratio: 1.9527\n"
     ]
    }
   ],
   "source": [
    "print(\"Optimal Weights:\")\n",
    "for ticker, weight in zip(tickers, optimal_weights):\n",
    "    print(f\"{ticker}: {weight:.4f}\")\n",
    "\n",
    "optimal_portfolio_return = expected_return(optimal_weights, log_returns)\n",
    "optimal_portfolio_volatility = standard_deviation(optimal_weights, cov_matrix)\n",
    "optimal_sharpe_ratio = sharpe_ratio(optimal_weights, log_returns, cov_matrix, risk_free_rate)\n",
    "\n",
    "print(f\"Expected Annual Return: {optimal_portfolio_return:.4f}\")\n",
    "print(f\"Expected Volatility: {optimal_portfolio_volatility:.4f}\")\n",
    "print(f\"Sharpe Ratio: {optimal_sharpe_ratio:.4f}\")"
   ]
  },
  {
   "cell_type": "code",
   "execution_count": 162,
   "id": "ea47ebc5-fdad-4ae3-9404-9c50dd9c0ca6",
   "metadata": {},
   "outputs": [
    {
     "data": {
      "image/png": "[encoded data removed]",
      "text/plain": [
       "<Figure size 1000x600 with 1 Axes>"
      ]
     },
     "metadata": {},
     "output_type": "display_data"
    }
   ],
   "source": [
    "import matplotlib.pyplot as plt\n",
    "\n",
    "plt.figure(figsize=(10, 6))\n",
    "plt.bar(tickers, optimal_weights)\n",
    "\n",
    "plt.xlabel('Assets')\n",
    "plt.ylabel('Optimal Weights')\n",
    "plt.title('Optimal Portfolio Weights')\n",
    "\n",
    "plt.show()"
   ]
  },
  {
   "cell_type": "code",
   "execution_count": null,
   "id": "259388e0-3652-4fc8-9eb2-a46e0e41f8fc",
   "metadata": {},
   "outputs": [],
   "source": []
  },
  {
   "cell_type": "code",
   "execution_count": null,
   "id": "ae45e42c-bf7e-4c92-906e-47645737f424",
   "metadata": {},
   "outputs": [],
   "source": []
  }
 ],
 "metadata": {
  "kernelspec": {
   "display_name": "Python 3 (ipykernel)",
   "language": "python",
   "name": "python3"
  },
  "language_info": {
   "codemirror_mode": {
    "name": "ipython",
    "version": 3
   },
   "file_extension": ".py",
   "mimetype": "text/x-python",
   "name": "python",
   "nbconvert_exporter": "python",
   "pygments_lexer": "ipython3",
   "version": "3.11.7"
  }
 },
 "nbformat": 4,
 "nbformat_minor": 5
}
